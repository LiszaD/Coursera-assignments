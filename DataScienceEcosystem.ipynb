{
 "cells": [
  {
   "cell_type": "markdown",
   "id": "99df5a4d-07a7-4d05-b590-41ff8f9f872f",
   "metadata": {
    "tags": []
   },
   "source": [
    "# Data Science Tools and Ecosystem"
   ]
  },
  {
   "cell_type": "markdown",
   "id": "72002a8f-335c-4692-bff2-b231dcd9cc72",
   "metadata": {},
   "source": [
    "## Author \n",
    "<br> Lisza Duermeyer"
   ]
  },
  {
   "cell_type": "markdown",
   "id": "0320441d-b976-4009-9fb6-4da6b1bfd859",
   "metadata": {},
   "source": [
    "In this notebook, Data Science tools and Ecosystem are summarized"
   ]
  },
  {
   "cell_type": "markdown",
   "id": "c9241f70-ad79-40c9-a86c-54c72b1457a6",
   "metadata": {},
   "source": [
    "**Objectives:**\n",
    "  - list of popular languages for Data Science\n",
    "  - list of commonly used libraries by Data Scientists\n",
    "  - table of Data Science tools\n",
    "  - arithmetic expressions in python are included"
   ]
  },
  {
   "cell_type": "markdown",
   "id": "0d341b73-7f4a-495d-aa01-cb7467fd3c38",
   "metadata": {},
   "source": [
    "Some of the popular languages that Data Scientists use are:\n",
    "1. Python\n",
    "2. R\n",
    "3. Structured Query Language (SQL)\n",
    "4. Scala"
   ]
  },
  {
   "cell_type": "markdown",
   "id": "061712e7-ae9e-4117-80fe-d97c0f5ed264",
   "metadata": {},
   "source": [
    "Some of the commonly used libraries by Data Scientists include:\n",
    "1. TensorFlow\n",
    "2. Pandas\n",
    "3. NumPy\n",
    "4. SciPy\n",
    "5. PyTorch\n",
    "6. Keras"
   ]
  },
  {
   "cell_type": "markdown",
   "id": "acd76336-b397-4719-957a-6f4a53055c8d",
   "metadata": {},
   "source": [
    "|Data Science Tools|\n",
    "|---|\n",
    "|Jupyter|\n",
    "|JupyterLab|\n",
    "|RStudio|"
   ]
  },
  {
   "cell_type": "markdown",
   "id": "caa1d6c4-692f-435a-bcb0-f98a0c42b8b7",
   "metadata": {},
   "source": [
    "### Below are a few examples of evaluating arithmetic expressions in Python"
   ]
  },
  {
   "cell_type": "code",
   "execution_count": 7,
   "id": "11ace33d-5fa5-4a19-9ca7-45bc09e05308",
   "metadata": {},
   "outputs": [
    {
     "name": "stdout",
     "output_type": "stream",
     "text": [
      "17\n"
     ]
    }
   ],
   "source": [
    "# This is a simple arithmetic expression to multiply then add integers\n",
    "print((3*4)+5)"
   ]
  },
  {
   "cell_type": "code",
   "execution_count": 8,
   "id": "7c43543b-3fd0-4784-aee5-b1cab24f8b3c",
   "metadata": {},
   "outputs": [
    {
     "name": "stdout",
     "output_type": "stream",
     "text": [
      "3.3333333333333335\n"
     ]
    }
   ],
   "source": [
    "# This will convert 200 minutes to hours by dividing by 60\n",
    "x = 200   # variable in minutes\n",
    "y = 60    # number of minutes in an hour\n",
    "print(x/y)\n"
   ]
  }
 ],
 "metadata": {
  "kernelspec": {
   "display_name": "Python",
   "language": "python",
   "name": "conda-env-python-py"
  },
  "language_info": {
   "codemirror_mode": {
    "name": "ipython",
    "version": 3
   },
   "file_extension": ".py",
   "mimetype": "text/x-python",
   "name": "python",
   "nbconvert_exporter": "python",
   "pygments_lexer": "ipython3",
   "version": "3.7.12"
  }
 },
 "nbformat": 4,
 "nbformat_minor": 5
}
